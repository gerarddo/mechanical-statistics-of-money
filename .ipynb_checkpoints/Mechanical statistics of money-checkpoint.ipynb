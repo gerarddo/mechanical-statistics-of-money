{
 "cells": [
  {
   "cell_type": "code",
   "execution_count": 1,
   "metadata": {},
   "outputs": [],
   "source": [
    "# https://www.semion.io/doc/statistical-mechanics-of-money\n"
   ]
  },
  {
   "cell_type": "code",
   "execution_count": 2,
   "metadata": {},
   "outputs": [],
   "source": [
    "# Importar librerías científicas\n",
    "\n",
    "# %matplotlib nbagg\n",
    "%matplotlib tk\n",
    "# %matplotlib notebook\n",
    "import numpy as np\n",
    "import matplotlib.pyplot as plt\n",
    "\n",
    "from matplotlib.pylab import *\n",
    "import matplotlib.animation as animation"
   ]
  },
  {
   "cell_type": "code",
   "execution_count": 3,
   "metadata": {},
   "outputs": [],
   "source": [
    "# Crear estilo de plots\n",
    "# IPython_default = plt.rcParams.copy()\n",
    "\n",
    "from matplotlib import cycler\n",
    "colors = cycler('color',\n",
    "                ['#EE6666', '#3388BB', '#9988DD',\n",
    "                 '#EECC55', '#88BB44', '#FFBBBB'])\n",
    "plt.rc('axes', facecolor='#E6E6E6', edgecolor='none',\n",
    "       axisbelow=True, grid=True, prop_cycle=colors)\n",
    "plt.rc('grid', color='w', linestyle='solid')\n",
    "plt.rc('xtick', direction='out', color='gray')\n",
    "plt.rc('ytick', direction='out', color='gray')\n",
    "plt.rc('patch', edgecolor='#E6E6E6')\n",
    "plt.rc('lines', linewidth=2)"
   ]
  },
  {
   "cell_type": "code",
   "execution_count": 4,
   "metadata": {},
   "outputs": [],
   "source": [
    "# ---------- MODIFIABLE PARAMETERS -----------\n",
    "\n",
    "\n",
    "\n",
    "M = 100000 # total amount of money in system\n",
    "N = 50000 # number of agents\n",
    "numClasses = 100\n",
    "xMax = 200\n",
    "deltam = xMax/numClasses # amount of money exchanged in each transaction\n",
    "\n",
    "\n",
    "\n"
   ]
  },
  {
   "cell_type": "code",
   "execution_count": 17,
   "metadata": {},
   "outputs": [],
   "source": [
    "\n",
    "# Declaración de funciones de simulación\n",
    "\n",
    "# Function S takes an array of real numbers (i.e. the amount of money each agent has) and calculates entropy\n",
    "def S(agentsArr):\n",
    "    frequencies, bin_edges = np.histogram(agentsArr, bins=numClasses, range=[0,xMax])\n",
    "    \n",
    "    positiveFrequencies = frequencies[frequencies > 0]\n",
    "    return N*np.log(N) + np.sum(positiveFrequencies*np.log(positiveFrequencies)) \n",
    "\n",
    "def simulateTransaction(k,l):\n",
    "    \n",
    "    if np.random.random() < 0.5:\n",
    "        s = 1\n",
    "    else:\n",
    "        s = -1\n",
    "        \n",
    "    mny = agents[l] - s*deltam \n",
    "\n",
    "    if(mny >= 0):\n",
    "        agents[k] = agents[k] + s*deltam\n",
    "        agents[l] = agents[l] - s*deltam\n",
    "\n",
    "        \n",
    "        \n",
    "def simulateRandomTransaction():\n",
    "    k, l = np.random.choice(indices, 2)\n",
    "    simulateTransaction(k,l)\n",
    "\n",
    "\n",
    "\n",
    "    \n",
    "def updateSystemState(curr):\n",
    "    \n",
    "    for n in range(showEvery):\n",
    "        simulateRandomTransaction()\n",
    "    \n",
    "    currS = S(agents)\n",
    "\n",
    "    arrS.append(currS)\n",
    "\n",
    "#     relErr = abs(arrS[-2] - arrS[-1])/arrS[-2]\n",
    "\n",
    "#     if relErr <= 0.00001: return; # if relative error is less than one percent, stop simulation\n",
    "\n",
    "    absErr = arrS[-2] - arrS[-1]\n",
    "\n",
    "    # ax is the variable where simulations are going to be graphed\n",
    "    for ax in (ax1, ax2, ax3, ax4):\n",
    "        ax.clear()\n",
    "\n",
    "    transactions = updateTransactions()\n",
    "    \n",
    "    titleContent = \"Statistical Mechanics of Money \\n\"\n",
    "    titleContent += \"\\n\"    \n",
    "    titleContent += \"Transactions made: \" + str(transactions) + \"\\n\"\n",
    "    titleContent += \"Current entropy: S = \" + str(np.round(currS,10))    \n",
    "    titleContent += \"\\n\"\n",
    "    titleContent += \"Total money: \" + str(M) + \" (money units)\\n\"\n",
    "    titleContent += \"Num. of agents: \" + str(N) + \" (people)\\n\"\n",
    "    titleContent += \"Richest agent has: \" + str(np.max(agents)) + \" (money units)\"\n",
    "    \n",
    "    plt.suptitle(titleContent);\n",
    "    plt.subplots_adjust(top=0.7);\n",
    "    plt.subplots_adjust(bottom=0.2)\n",
    "    fig.subplots_adjust(hspace=0.6)\n",
    "\n",
    "    # Start subplots\n",
    "    ax1.set_title('counts')\n",
    "    ax1.set_ylim([0,1.05*N])\n",
    "    ax1.set_xlabel('[money units]')\n",
    "    ax1.set_ylabel('[counts]')\n",
    "    hist, bins, _ = ax1.hist(agents, bins=numClasses, range=[0,xMax])\n",
    "\n",
    "    ax2.set_title('ln(counts)')\n",
    "    ax2.set_ylim([1,10**3])\n",
    "    ax2.set_xlabel('[money units]')\n",
    "    ax2.set_ylabel('[counts]')\n",
    "    ax2.hist(agents, bins=numClasses, range=[0,xMax])   \n",
    "    ax2.set_yscale('log')\n",
    "\n",
    "    ax3.set_title('counts')\n",
    "    ax3.set_xlabel('[money units]')\n",
    "    ax3.set_ylabel('[counts]')\n",
    "    hist, bins, _ = ax3.hist(agents, bins=numClasses, range=[0,xMax])\n",
    "\n",
    "    ax4.set_title('ln(counts)')\n",
    "    ax4.set_xlabel('[money units]')\n",
    "    ax4.set_ylabel('[counts]')\n",
    "    ax4.hist(agents, bins=numClasses, range=[0,xMax])   \n",
    "    ax4.set_yscale('log')\n",
    "    "
   ]
  },
  {
   "cell_type": "code",
   "execution_count": 18,
   "metadata": {},
   "outputs": [],
   "source": [
    "# --------- DO NOT MODIFY BELOW THIS CELL ---------\n",
    "# --------- Run this cell to get a fresh new simulation ------------\n",
    "indices = np.arange(0,N)\n",
    "avg0 = M/N\n",
    "widthPercentage = numClasses/avg0\n",
    "limits = (avg0 - avg0*widthPercentage, avg0 + avg0*widthPercentage)\n",
    "\n",
    "def updateTransactions():\n",
    "    # this arrS length was a hack since code would let me define a transactionsMade variable\n",
    "    # in this cell without it crashing when trying to update it in updateSystemState\n",
    "    return len(arrS)*showEvery\n",
    "\n",
    "\n",
    "agents = avg0*np.ones((N,1))\n",
    "arrS = [S(agents)];# array that will store the calculated entropies in time"
   ]
  },
  {
   "cell_type": "code",
   "execution_count": 19,
   "metadata": {
    "scrolled": true
   },
   "outputs": [],
   "source": [
    "# ---------- SIMULATION CELL -----------------\n",
    "\n",
    "if 'fig' in globals():\n",
    "    plt.close(fig)\n",
    "    \n",
    "# if(fig!=None):\n",
    "#     plt.close(fig)\n",
    "\n",
    "\n",
    "showEvery = 50000 # show histograms and entropy of the system every {{showEvery}} transaction\n",
    "fig, ([ax1, ax3, ax2, ax4]) = plt.subplots(2, 2, figsize=(20,6))\n",
    "simulation = animation.FuncAnimation(fig, updateSystemState, interval=1, repeat=True)\n",
    "plt.show()\n"
   ]
  },
  {
   "cell_type": "code",
   "execution_count": 33,
   "metadata": {},
   "outputs": [
    {
     "data": {
      "text/plain": [
       "500.0"
      ]
     },
     "execution_count": 33,
     "metadata": {},
     "output_type": "execute_result"
    }
   ],
   "source": [
    "np.max(agents)"
   ]
  },
  {
   "cell_type": "code",
   "execution_count": 24,
   "metadata": {},
   "outputs": [
    {
     "name": "stdout",
     "output_type": "stream",
     "text": [
      "Using matplotlib backend: TkAgg\n"
     ]
    },
    {
     "data": {
      "text/plain": [
       "[<matplotlib.lines.Line2D at 0x116223c10>]"
      ]
     },
     "execution_count": 24,
     "metadata": {},
     "output_type": "execute_result"
    }
   ],
   "source": [
    "%matplotlib auto\n",
    "plt.plot(arrS)"
   ]
  },
  {
   "cell_type": "code",
   "execution_count": 12,
   "metadata": {},
   "outputs": [],
   "source": [
    "# For closing all figures with code\n",
    "# https://matplotlib.org/3.1.1/api/_as_gen/matplotlib.pyplot.close.html\n",
    "\n",
    "# For if you wanted to try different backends\n",
    "# https://stackoverflow.com/questions/25333732/matplotlib-animation-not-working-in-ipython-notebook-blank-plot\n"
   ]
  },
  {
   "cell_type": "code",
   "execution_count": null,
   "metadata": {},
   "outputs": [],
   "source": []
  }
 ],
 "metadata": {
  "kernelspec": {
   "display_name": "Python 3",
   "language": "python",
   "name": "python3"
  },
  "language_info": {
   "codemirror_mode": {
    "name": "ipython",
    "version": 3
   },
   "file_extension": ".py",
   "mimetype": "text/x-python",
   "name": "python",
   "nbconvert_exporter": "python",
   "pygments_lexer": "ipython3",
   "version": "3.7.4"
  }
 },
 "nbformat": 4,
 "nbformat_minor": 2
}
